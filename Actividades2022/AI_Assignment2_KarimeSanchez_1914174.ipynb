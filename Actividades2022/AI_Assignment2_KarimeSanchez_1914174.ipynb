{
  "nbformat": 4,
  "nbformat_minor": 0,
  "metadata": {
    "colab": {
      "provenance": []
    },
    "kernelspec": {
      "name": "python3",
      "display_name": "Python 3"
    },
    "language_info": {
      "name": "python"
    }
  },
  "cells": [
    {
      "cell_type": "markdown",
      "source": [
        "**A2: Python exercises**\n",
        "\n",
        "Name: Karime Kirey Sánchez Andrade | ID: 1914174 | Tuesday N4"
      ],
      "metadata": {
        "id": "PfRpadhMMARw"
      }
    },
    {
      "cell_type": "markdown",
      "source": [
        "**Excercise 1:** Create a python script where the user is going to be asked for the name. After that, the program will greet the user with the given name. Only exception: the script will not greet the user if the given name is \"Ana\", \"John\" or \"Peter\"."
      ],
      "metadata": {
        "id": "6K-ifvtAMpqo"
      }
    },
    {
      "cell_type": "code",
      "execution_count": 21,
      "metadata": {
        "colab": {
          "base_uri": "https://localhost:8080/"
        },
        "id": "HyQ16y_vLxyG",
        "outputId": "944aac12-00aa-4acd-9b8e-a1f5c0af0604"
      },
      "outputs": [
        {
          "output_type": "stream",
          "name": "stdout",
          "text": [
            "Hello, what's your name?: Peter\n",
            "Ok...\n"
          ]
        }
      ],
      "source": [
        "name = input(\"Hello, what's your name?: \")\n",
        "\n",
        "if name in ['Ana', 'Peter', 'John']:\n",
        "    print(\"Ok...\")\n",
        "else:\n",
        "  print(\"Hi, \" + name + \"!\")"
      ]
    },
    {
      "cell_type": "markdown",
      "source": [
        "**Exercise 2:** Create a function in a pyhton script that returns (print) the last element of a given list, reverts the order of the list and finally returns (print) the reverted list. "
      ],
      "metadata": {
        "id": "bqs19CUARpd8"
      }
    },
    {
      "cell_type": "code",
      "source": [
        "list = ['a', 'b', 'c', 'd', 'e', 'f', 'g']\n",
        "print(list)\n",
        "\n",
        "lastElement = list[-1]\n",
        "print(\"Last element of the list: \", lastElement)\n",
        "\n",
        "#Reverted list\n",
        "letter = -1 #start from last index\n",
        "revertedList = [] #empty list to store the above list in an inverse order   \n",
        "\n",
        "while letter > -8:\n",
        "   revertedList.append(list[letter])\n",
        "   letter -= 1\n",
        "  \n",
        "print(revertedList)"
      ],
      "metadata": {
        "colab": {
          "base_uri": "https://localhost:8080/"
        },
        "id": "6r1ReJgsRvxg",
        "outputId": "daec8b46-caa9-4f37-8e00-cd11e837a4f1"
      },
      "execution_count": 29,
      "outputs": [
        {
          "output_type": "stream",
          "name": "stdout",
          "text": [
            "['a', 'b', 'c', 'd', 'e', 'f', 'g']\n",
            "Last element of the list:  g\n",
            "['g', 'f', 'e', 'd', 'c', 'b', 'a']\n"
          ]
        }
      ]
    },
    {
      "cell_type": "markdown",
      "source": [
        "**Excercise 3:** Create a function in a python script that takes a list of strings as input and then it prints, line by line, the whole list in a rectangular shape."
      ],
      "metadata": {
        "id": "-WIBCsyGhvdg"
      }
    },
    {
      "cell_type": "code",
      "source": [
        "square = [\"My\", \"dog's\", \"name\", \"is\", \"Fender\"]\n",
        "\n",
        "count = 0\n",
        "\n",
        "while count < 5:\n",
        "      if count == 0:\n",
        "        print(\"*************\")\n",
        "\n",
        "      print(\"*\",square[count] + (9-len(square[count]))*\" \", \"*\")\n",
        "      count += 1\n",
        "\n",
        "print(\"*************\")"
      ],
      "metadata": {
        "colab": {
          "base_uri": "https://localhost:8080/"
        },
        "id": "xu_c2UF3uPUi",
        "outputId": "644842ee-9650-4da3-fe07-dc7c6c4c0e66"
      },
      "execution_count": 69,
      "outputs": [
        {
          "output_type": "stream",
          "name": "stdout",
          "text": [
            "*************\n",
            "* My        *\n",
            "* dog's     *\n",
            "* name      *\n",
            "* is        *\n",
            "* Fender    *\n",
            "*************\n"
          ]
        }
      ]
    }
  ]
}